{
  "nbformat": 4,
  "nbformat_minor": 0,
  "metadata": {
    "colab": {
      "name": "MyWork.ipynb",
      "provenance": [],
      "collapsed_sections": [
        "zE_AIfFlb_gx",
        "R9zD5F_Tds82",
        "Qwowyu0keapL",
        "InNEzcCpfxMi",
        "Fg38kKL6iRU1"
      ]
    },
    "kernelspec": {
      "name": "ir",
      "display_name": "R"
    },
    "language_info": {
      "name": "R"
    }
  },
  "cells": [
    {
      "cell_type": "markdown",
      "metadata": {
        "id": "zE_AIfFlb_gx"
      },
      "source": [
        "#1"
      ]
    },
    {
      "cell_type": "code",
      "metadata": {
        "id": "RTsX7H3k5PNy",
        "colab": {
          "base_uri": "https://localhost:8080/"
        },
        "outputId": "f1771bd5-bd03-4200-9d4a-99cda2aaa4ca"
      },
      "source": [
        "install.packages(\"dslabs\")\n",
        "library(dslabs)\n",
        "data(murders)"
      ],
      "execution_count": null,
      "outputs": [
        {
          "output_type": "stream",
          "name": "stderr",
          "text": [
            "Installing package into ‘/usr/local/lib/R/site-library’\n",
            "(as ‘lib’ is unspecified)\n",
            "\n"
          ]
        }
      ]
    },
    {
      "cell_type": "code",
      "metadata": {
        "id": "Efwk2xwG6XXo",
        "colab": {
          "base_uri": "https://localhost:8080/",
          "height": 34
        },
        "outputId": "4e5199e2-d521-4fef-b2b4-b744ae1b5e41"
      },
      "source": [
        "class(murders)"
      ],
      "execution_count": null,
      "outputs": [
        {
          "output_type": "display_data",
          "data": {
            "text/plain": [
              "[1] \"data.frame\""
            ],
            "text/latex": "'data.frame'",
            "text/markdown": "'data.frame'",
            "text/html": [
              "'data.frame'"
            ]
          },
          "metadata": {}
        }
      ]
    },
    {
      "cell_type": "code",
      "metadata": {
        "colab": {
          "base_uri": "https://localhost:8080/"
        },
        "id": "C9P-V7rKZ3DE",
        "outputId": "b60db728-7e93-4304-c2c1-5ac35ec27058"
      },
      "source": [
        "str(murders)"
      ],
      "execution_count": null,
      "outputs": [
        {
          "output_type": "stream",
          "name": "stdout",
          "text": [
            "'data.frame':\t51 obs. of  5 variables:\n",
            " $ state     : chr  \"Alabama\" \"Alaska\" \"Arizona\" \"Arkansas\" ...\n",
            " $ abb       : chr  \"AL\" \"AK\" \"AZ\" \"AR\" ...\n",
            " $ region    : Factor w/ 4 levels \"Northeast\",\"South\",..: 2 4 4 2 4 4 1 2 2 2 ...\n",
            " $ population: num  4779736 710231 6392017 2915918 37253956 ...\n",
            " $ total     : num  135 19 232 93 1257 ...\n"
          ]
        }
      ]
    },
    {
      "cell_type": "code",
      "metadata": {
        "colab": {
          "base_uri": "https://localhost:8080/",
          "height": 283
        },
        "id": "kAbDY5nzZ7my",
        "outputId": "b3fafbcc-3a79-4058-b99f-6ca64c1fc194"
      },
      "source": [
        "head(murders)"
      ],
      "execution_count": null,
      "outputs": [
        {
          "output_type": "display_data",
          "data": {
            "text/plain": [
              "  state      abb region population total\n",
              "1 Alabama    AL  South   4779736    135 \n",
              "2 Alaska     AK  West     710231     19 \n",
              "3 Arizona    AZ  West    6392017    232 \n",
              "4 Arkansas   AR  South   2915918     93 \n",
              "5 California CA  West   37253956   1257 \n",
              "6 Colorado   CO  West    5029196     65 "
            ],
            "text/latex": "A data.frame: 6 × 5\n\\begin{tabular}{r|lllll}\n  & state & abb & region & population & total\\\\\n  & <chr> & <chr> & <fct> & <dbl> & <dbl>\\\\\n\\hline\n\t1 & Alabama    & AL & South &  4779736 &  135\\\\\n\t2 & Alaska     & AK & West  &   710231 &   19\\\\\n\t3 & Arizona    & AZ & West  &  6392017 &  232\\\\\n\t4 & Arkansas   & AR & South &  2915918 &   93\\\\\n\t5 & California & CA & West  & 37253956 & 1257\\\\\n\t6 & Colorado   & CO & West  &  5029196 &   65\\\\\n\\end{tabular}\n",
            "text/markdown": "\nA data.frame: 6 × 5\n\n| <!--/--> | state &lt;chr&gt; | abb &lt;chr&gt; | region &lt;fct&gt; | population &lt;dbl&gt; | total &lt;dbl&gt; |\n|---|---|---|---|---|---|\n| 1 | Alabama    | AL | South |  4779736 |  135 |\n| 2 | Alaska     | AK | West  |   710231 |   19 |\n| 3 | Arizona    | AZ | West  |  6392017 |  232 |\n| 4 | Arkansas   | AR | South |  2915918 |   93 |\n| 5 | California | CA | West  | 37253956 | 1257 |\n| 6 | Colorado   | CO | West  |  5029196 |   65 |\n\n",
            "text/html": [
              "<table class=\"dataframe\">\n",
              "<caption>A data.frame: 6 × 5</caption>\n",
              "<thead>\n",
              "\t<tr><th></th><th scope=col>state</th><th scope=col>abb</th><th scope=col>region</th><th scope=col>population</th><th scope=col>total</th></tr>\n",
              "\t<tr><th></th><th scope=col>&lt;chr&gt;</th><th scope=col>&lt;chr&gt;</th><th scope=col>&lt;fct&gt;</th><th scope=col>&lt;dbl&gt;</th><th scope=col>&lt;dbl&gt;</th></tr>\n",
              "</thead>\n",
              "<tbody>\n",
              "\t<tr><th scope=row>1</th><td>Alabama   </td><td>AL</td><td>South</td><td> 4779736</td><td> 135</td></tr>\n",
              "\t<tr><th scope=row>2</th><td>Alaska    </td><td>AK</td><td>West </td><td>  710231</td><td>  19</td></tr>\n",
              "\t<tr><th scope=row>3</th><td>Arizona   </td><td>AZ</td><td>West </td><td> 6392017</td><td> 232</td></tr>\n",
              "\t<tr><th scope=row>4</th><td>Arkansas  </td><td>AR</td><td>South</td><td> 2915918</td><td>  93</td></tr>\n",
              "\t<tr><th scope=row>5</th><td>California</td><td>CA</td><td>West </td><td>37253956</td><td>1257</td></tr>\n",
              "\t<tr><th scope=row>6</th><td>Colorado  </td><td>CO</td><td>West </td><td> 5029196</td><td>  65</td></tr>\n",
              "</tbody>\n",
              "</table>\n"
            ]
          },
          "metadata": {}
        }
      ]
    },
    {
      "cell_type": "code",
      "metadata": {
        "colab": {
          "base_uri": "https://localhost:8080/",
          "height": 51
        },
        "id": "fGlsDlt7aCdS",
        "outputId": "6db2474f-81ba-4ba8-8b6a-59ffb26b312f"
      },
      "source": [
        "murders$population"
      ],
      "execution_count": null,
      "outputs": [
        {
          "output_type": "display_data",
          "data": {
            "text/plain": [
              " [1]  4779736   710231  6392017  2915918 37253956  5029196  3574097   897934\n",
              " [9]   601723 19687653  9920000  1360301  1567582 12830632  6483802  3046355\n",
              "[17]  2853118  4339367  4533372  1328361  5773552  6547629  9883640  5303925\n",
              "[25]  2967297  5988927   989415  1826341  2700551  1316470  8791894  2059179\n",
              "[33] 19378102  9535483   672591 11536504  3751351  3831074 12702379  1052567\n",
              "[41]  4625364   814180  6346105 25145561  2763885   625741  8001024  6724540\n",
              "[49]  1852994  5686986   563626"
            ],
            "text/latex": "\\begin{enumerate*}\n\\item 4779736\n\\item 710231\n\\item 6392017\n\\item 2915918\n\\item 37253956\n\\item 5029196\n\\item 3574097\n\\item 897934\n\\item 601723\n\\item 19687653\n\\item 9920000\n\\item 1360301\n\\item 1567582\n\\item 12830632\n\\item 6483802\n\\item 3046355\n\\item 2853118\n\\item 4339367\n\\item 4533372\n\\item 1328361\n\\item 5773552\n\\item 6547629\n\\item 9883640\n\\item 5303925\n\\item 2967297\n\\item 5988927\n\\item 989415\n\\item 1826341\n\\item 2700551\n\\item 1316470\n\\item 8791894\n\\item 2059179\n\\item 19378102\n\\item 9535483\n\\item 672591\n\\item 11536504\n\\item 3751351\n\\item 3831074\n\\item 12702379\n\\item 1052567\n\\item 4625364\n\\item 814180\n\\item 6346105\n\\item 25145561\n\\item 2763885\n\\item 625741\n\\item 8001024\n\\item 6724540\n\\item 1852994\n\\item 5686986\n\\item 563626\n\\end{enumerate*}\n",
            "text/markdown": "1. 4779736\n2. 710231\n3. 6392017\n4. 2915918\n5. 37253956\n6. 5029196\n7. 3574097\n8. 897934\n9. 601723\n10. 19687653\n11. 9920000\n12. 1360301\n13. 1567582\n14. 12830632\n15. 6483802\n16. 3046355\n17. 2853118\n18. 4339367\n19. 4533372\n20. 1328361\n21. 5773552\n22. 6547629\n23. 9883640\n24. 5303925\n25. 2967297\n26. 5988927\n27. 989415\n28. 1826341\n29. 2700551\n30. 1316470\n31. 8791894\n32. 2059179\n33. 19378102\n34. 9535483\n35. 672591\n36. 11536504\n37. 3751351\n38. 3831074\n39. 12702379\n40. 1052567\n41. 4625364\n42. 814180\n43. 6346105\n44. 25145561\n45. 2763885\n46. 625741\n47. 8001024\n48. 6724540\n49. 1852994\n50. 5686986\n51. 563626\n\n\n",
            "text/html": [
              "<style>\n",
              ".list-inline {list-style: none; margin:0; padding: 0}\n",
              ".list-inline>li {display: inline-block}\n",
              ".list-inline>li:not(:last-child)::after {content: \"\\00b7\"; padding: 0 .5ex}\n",
              "</style>\n",
              "<ol class=list-inline><li>4779736</li><li>710231</li><li>6392017</li><li>2915918</li><li>37253956</li><li>5029196</li><li>3574097</li><li>897934</li><li>601723</li><li>19687653</li><li>9920000</li><li>1360301</li><li>1567582</li><li>12830632</li><li>6483802</li><li>3046355</li><li>2853118</li><li>4339367</li><li>4533372</li><li>1328361</li><li>5773552</li><li>6547629</li><li>9883640</li><li>5303925</li><li>2967297</li><li>5988927</li><li>989415</li><li>1826341</li><li>2700551</li><li>1316470</li><li>8791894</li><li>2059179</li><li>19378102</li><li>9535483</li><li>672591</li><li>11536504</li><li>3751351</li><li>3831074</li><li>12702379</li><li>1052567</li><li>4625364</li><li>814180</li><li>6346105</li><li>25145561</li><li>2763885</li><li>625741</li><li>8001024</li><li>6724540</li><li>1852994</li><li>5686986</li><li>563626</li></ol>\n"
            ]
          },
          "metadata": {}
        }
      ]
    },
    {
      "cell_type": "code",
      "metadata": {
        "colab": {
          "base_uri": "https://localhost:8080/",
          "height": 34
        },
        "id": "n3bFXRpnaKzP",
        "outputId": "3e36b9d4-56b8-4105-b1ea-80d7b598f354"
      },
      "source": [
        "length(murders$population)"
      ],
      "execution_count": null,
      "outputs": [
        {
          "output_type": "display_data",
          "data": {
            "text/plain": [
              "[1] 51"
            ],
            "text/latex": "51",
            "text/markdown": "51",
            "text/html": [
              "51"
            ]
          },
          "metadata": {}
        }
      ]
    },
    {
      "cell_type": "code",
      "metadata": {
        "colab": {
          "base_uri": "https://localhost:8080/",
          "height": 34
        },
        "id": "RZCKt9DjaUcj",
        "outputId": "587f6c27-3ba1-40c5-a223-22ff8fa8d439"
      },
      "source": [
        "class(murders$population)"
      ],
      "execution_count": null,
      "outputs": [
        {
          "output_type": "display_data",
          "data": {
            "text/plain": [
              "[1] \"numeric\""
            ],
            "text/latex": "'numeric'",
            "text/markdown": "'numeric'",
            "text/html": [
              "'numeric'"
            ]
          },
          "metadata": {}
        }
      ]
    },
    {
      "cell_type": "markdown",
      "metadata": {
        "id": "DyGCyqHLcFtu"
      },
      "source": [
        "##Exercise 1"
      ]
    },
    {
      "cell_type": "markdown",
      "metadata": {
        "id": "_gWsaP57cxC_"
      },
      "source": [
        "###1"
      ]
    },
    {
      "cell_type": "code",
      "metadata": {
        "colab": {
          "base_uri": "https://localhost:8080/"
        },
        "id": "xk0AvGxmc0_G",
        "outputId": "20c5164a-478b-4dbd-a3d1-783c602401a7"
      },
      "source": [
        "install.packages(\"dslabs\")\n",
        "library(dslabs)\n",
        "data(murders)"
      ],
      "execution_count": null,
      "outputs": [
        {
          "output_type": "stream",
          "name": "stderr",
          "text": [
            "Installing package into ‘/usr/local/lib/R/site-library’\n",
            "(as ‘lib’ is unspecified)\n",
            "\n"
          ]
        }
      ]
    },
    {
      "cell_type": "markdown",
      "metadata": {
        "id": "8qKiFeCEc2AG"
      },
      "source": [
        "###2"
      ]
    },
    {
      "cell_type": "code",
      "metadata": {
        "colab": {
          "base_uri": "https://localhost:8080/",
          "height": 34
        },
        "id": "zLNYqc8CcHg_",
        "outputId": "0a933cce-c0c6-4505-9f7f-dc42ca045256"
      },
      "source": [
        "names(murders)"
      ],
      "execution_count": null,
      "outputs": [
        {
          "output_type": "display_data",
          "data": {
            "text/plain": [
              "[1] \"state\"      \"abb\"        \"region\"     \"population\" \"total\"     "
            ],
            "text/latex": "\\begin{enumerate*}\n\\item 'state'\n\\item 'abb'\n\\item 'region'\n\\item 'population'\n\\item 'total'\n\\end{enumerate*}\n",
            "text/markdown": "1. 'state'\n2. 'abb'\n3. 'region'\n4. 'population'\n5. 'total'\n\n\n",
            "text/html": [
              "<style>\n",
              ".list-inline {list-style: none; margin:0; padding: 0}\n",
              ".list-inline>li {display: inline-block}\n",
              ".list-inline>li:not(:last-child)::after {content: \"\\00b7\"; padding: 0 .5ex}\n",
              "</style>\n",
              "<ol class=list-inline><li>'state'</li><li>'abb'</li><li>'region'</li><li>'population'</li><li>'total'</li></ol>\n"
            ]
          },
          "metadata": {}
        }
      ]
    },
    {
      "cell_type": "markdown",
      "metadata": {
        "id": "_bZmvO8kc-5u"
      },
      "source": [
        "###3"
      ]
    },
    {
      "cell_type": "code",
      "metadata": {
        "colab": {
          "base_uri": "https://localhost:8080/",
          "height": 334
        },
        "id": "QvCiZ9d1cQ3V",
        "outputId": "a3246e6a-f369-4e27-8917-96220d783f5f"
      },
      "source": [
        "head(murders)\n",
        "class(a<-murders$abb)"
      ],
      "execution_count": null,
      "outputs": [
        {
          "output_type": "display_data",
          "data": {
            "text/plain": [
              "  state      abb region population total\n",
              "1 Alabama    AL  South   4779736    135 \n",
              "2 Alaska     AK  West     710231     19 \n",
              "3 Arizona    AZ  West    6392017    232 \n",
              "4 Arkansas   AR  South   2915918     93 \n",
              "5 California CA  West   37253956   1257 \n",
              "6 Colorado   CO  West    5029196     65 "
            ],
            "text/latex": "A data.frame: 6 × 5\n\\begin{tabular}{r|lllll}\n  & state & abb & region & population & total\\\\\n  & <chr> & <chr> & <fct> & <dbl> & <dbl>\\\\\n\\hline\n\t1 & Alabama    & AL & South &  4779736 &  135\\\\\n\t2 & Alaska     & AK & West  &   710231 &   19\\\\\n\t3 & Arizona    & AZ & West  &  6392017 &  232\\\\\n\t4 & Arkansas   & AR & South &  2915918 &   93\\\\\n\t5 & California & CA & West  & 37253956 & 1257\\\\\n\t6 & Colorado   & CO & West  &  5029196 &   65\\\\\n\\end{tabular}\n",
            "text/markdown": "\nA data.frame: 6 × 5\n\n| <!--/--> | state &lt;chr&gt; | abb &lt;chr&gt; | region &lt;fct&gt; | population &lt;dbl&gt; | total &lt;dbl&gt; |\n|---|---|---|---|---|---|\n| 1 | Alabama    | AL | South |  4779736 |  135 |\n| 2 | Alaska     | AK | West  |   710231 |   19 |\n| 3 | Arizona    | AZ | West  |  6392017 |  232 |\n| 4 | Arkansas   | AR | South |  2915918 |   93 |\n| 5 | California | CA | West  | 37253956 | 1257 |\n| 6 | Colorado   | CO | West  |  5029196 |   65 |\n\n",
            "text/html": [
              "<table class=\"dataframe\">\n",
              "<caption>A data.frame: 6 × 5</caption>\n",
              "<thead>\n",
              "\t<tr><th></th><th scope=col>state</th><th scope=col>abb</th><th scope=col>region</th><th scope=col>population</th><th scope=col>total</th></tr>\n",
              "\t<tr><th></th><th scope=col>&lt;chr&gt;</th><th scope=col>&lt;chr&gt;</th><th scope=col>&lt;fct&gt;</th><th scope=col>&lt;dbl&gt;</th><th scope=col>&lt;dbl&gt;</th></tr>\n",
              "</thead>\n",
              "<tbody>\n",
              "\t<tr><th scope=row>1</th><td>Alabama   </td><td>AL</td><td>South</td><td> 4779736</td><td> 135</td></tr>\n",
              "\t<tr><th scope=row>2</th><td>Alaska    </td><td>AK</td><td>West </td><td>  710231</td><td>  19</td></tr>\n",
              "\t<tr><th scope=row>3</th><td>Arizona   </td><td>AZ</td><td>West </td><td> 6392017</td><td> 232</td></tr>\n",
              "\t<tr><th scope=row>4</th><td>Arkansas  </td><td>AR</td><td>South</td><td> 2915918</td><td>  93</td></tr>\n",
              "\t<tr><th scope=row>5</th><td>California</td><td>CA</td><td>West </td><td>37253956</td><td>1257</td></tr>\n",
              "\t<tr><th scope=row>6</th><td>Colorado  </td><td>CO</td><td>West </td><td> 5029196</td><td>  65</td></tr>\n",
              "</tbody>\n",
              "</table>\n"
            ]
          },
          "metadata": {}
        },
        {
          "output_type": "display_data",
          "data": {
            "text/plain": [
              "[1] \"character\""
            ],
            "text/latex": "'character'",
            "text/markdown": "'character'",
            "text/html": [
              "'character'"
            ]
          },
          "metadata": {}
        },
        {
          "output_type": "display_data",
          "data": {
            "text/plain": [
              " [1] \"AL\" \"AK\" \"AZ\" \"AR\" \"CA\" \"CO\" \"CT\" \"DE\" \"DC\" \"FL\" \"GA\" \"HI\" \"ID\" \"IL\" \"IN\"\n",
              "[16] \"IA\" \"KS\" \"KY\" \"LA\" \"ME\" \"MD\" \"MA\" \"MI\" \"MN\" \"MS\" \"MO\" \"MT\" \"NE\" \"NV\" \"NH\"\n",
              "[31] \"NJ\" \"NM\" \"NY\" \"NC\" \"ND\" \"OH\" \"OK\" \"OR\" \"PA\" \"RI\" \"SC\" \"SD\" \"TN\" \"TX\" \"UT\"\n",
              "[46] \"VT\" \"VA\" \"WA\" \"WV\" \"WI\" \"WY\""
            ],
            "text/latex": "\\begin{enumerate*}\n\\item 'AL'\n\\item 'AK'\n\\item 'AZ'\n\\item 'AR'\n\\item 'CA'\n\\item 'CO'\n\\item 'CT'\n\\item 'DE'\n\\item 'DC'\n\\item 'FL'\n\\item 'GA'\n\\item 'HI'\n\\item 'ID'\n\\item 'IL'\n\\item 'IN'\n\\item 'IA'\n\\item 'KS'\n\\item 'KY'\n\\item 'LA'\n\\item 'ME'\n\\item 'MD'\n\\item 'MA'\n\\item 'MI'\n\\item 'MN'\n\\item 'MS'\n\\item 'MO'\n\\item 'MT'\n\\item 'NE'\n\\item 'NV'\n\\item 'NH'\n\\item 'NJ'\n\\item 'NM'\n\\item 'NY'\n\\item 'NC'\n\\item 'ND'\n\\item 'OH'\n\\item 'OK'\n\\item 'OR'\n\\item 'PA'\n\\item 'RI'\n\\item 'SC'\n\\item 'SD'\n\\item 'TN'\n\\item 'TX'\n\\item 'UT'\n\\item 'VT'\n\\item 'VA'\n\\item 'WA'\n\\item 'WV'\n\\item 'WI'\n\\item 'WY'\n\\end{enumerate*}\n",
            "text/markdown": "1. 'AL'\n2. 'AK'\n3. 'AZ'\n4. 'AR'\n5. 'CA'\n6. 'CO'\n7. 'CT'\n8. 'DE'\n9. 'DC'\n10. 'FL'\n11. 'GA'\n12. 'HI'\n13. 'ID'\n14. 'IL'\n15. 'IN'\n16. 'IA'\n17. 'KS'\n18. 'KY'\n19. 'LA'\n20. 'ME'\n21. 'MD'\n22. 'MA'\n23. 'MI'\n24. 'MN'\n25. 'MS'\n26. 'MO'\n27. 'MT'\n28. 'NE'\n29. 'NV'\n30. 'NH'\n31. 'NJ'\n32. 'NM'\n33. 'NY'\n34. 'NC'\n35. 'ND'\n36. 'OH'\n37. 'OK'\n38. 'OR'\n39. 'PA'\n40. 'RI'\n41. 'SC'\n42. 'SD'\n43. 'TN'\n44. 'TX'\n45. 'UT'\n46. 'VT'\n47. 'VA'\n48. 'WA'\n49. 'WV'\n50. 'WI'\n51. 'WY'\n\n\n",
            "text/html": [
              "<style>\n",
              ".list-inline {list-style: none; margin:0; padding: 0}\n",
              ".list-inline>li {display: inline-block}\n",
              ".list-inline>li:not(:last-child)::after {content: \"\\00b7\"; padding: 0 .5ex}\n",
              "</style>\n",
              "<ol class=list-inline><li>'AL'</li><li>'AK'</li><li>'AZ'</li><li>'AR'</li><li>'CA'</li><li>'CO'</li><li>'CT'</li><li>'DE'</li><li>'DC'</li><li>'FL'</li><li>'GA'</li><li>'HI'</li><li>'ID'</li><li>'IL'</li><li>'IN'</li><li>'IA'</li><li>'KS'</li><li>'KY'</li><li>'LA'</li><li>'ME'</li><li>'MD'</li><li>'MA'</li><li>'MI'</li><li>'MN'</li><li>'MS'</li><li>'MO'</li><li>'MT'</li><li>'NE'</li><li>'NV'</li><li>'NH'</li><li>'NJ'</li><li>'NM'</li><li>'NY'</li><li>'NC'</li><li>'ND'</li><li>'OH'</li><li>'OK'</li><li>'OR'</li><li>'PA'</li><li>'RI'</li><li>'SC'</li><li>'SD'</li><li>'TN'</li><li>'TX'</li><li>'UT'</li><li>'VT'</li><li>'VA'</li><li>'WA'</li><li>'WV'</li><li>'WI'</li><li>'WY'</li></ol>\n"
            ]
          },
          "metadata": {}
        }
      ]
    },
    {
      "cell_type": "markdown",
      "metadata": {
        "id": "bAFm8ibhdMkG"
      },
      "source": [
        "###4"
      ]
    },
    {
      "cell_type": "code",
      "metadata": {
        "colab": {
          "base_uri": "https://localhost:8080/",
          "height": 34
        },
        "id": "Vyd3b6LndBRW",
        "outputId": "4f77ae4d-b588-4d66-ce60-d1d196e6013a"
      },
      "source": [
        "length(levels(murders$region))"
      ],
      "execution_count": null,
      "outputs": [
        {
          "output_type": "display_data",
          "data": {
            "text/plain": [
              "[1] 4"
            ],
            "text/latex": "4",
            "text/markdown": "4",
            "text/html": [
              "4"
            ]
          },
          "metadata": {}
        }
      ]
    },
    {
      "cell_type": "markdown",
      "metadata": {
        "id": "8PCWvbOrdjg2"
      },
      "source": [
        "###5"
      ]
    },
    {
      "cell_type": "code",
      "metadata": {
        "colab": {
          "base_uri": "https://localhost:8080/",
          "height": 71
        },
        "id": "DjfnkBCbdalA",
        "outputId": "3801ce97-80c8-4cd3-b363-f35d6639a9ae"
      },
      "source": [
        "table(murders$region)"
      ],
      "execution_count": null,
      "outputs": [
        {
          "output_type": "display_data",
          "data": {
            "text/plain": [
              "\n",
              "    Northeast         South North Central          West \n",
              "            9            17            12            13 "
            ]
          },
          "metadata": {}
        }
      ]
    },
    {
      "cell_type": "markdown",
      "metadata": {
        "id": "R9zD5F_Tds82"
      },
      "source": [
        "#2"
      ]
    },
    {
      "cell_type": "markdown",
      "metadata": {
        "id": "Qwowyu0keapL"
      },
      "source": [
        "##Exercise 2"
      ]
    },
    {
      "cell_type": "markdown",
      "metadata": {
        "id": "-SbjBPBled_C"
      },
      "source": [
        "###1"
      ]
    },
    {
      "cell_type": "code",
      "metadata": {
        "colab": {
          "base_uri": "https://localhost:8080/",
          "height": 34
        },
        "id": "kPDJQTEqduhC",
        "outputId": "4c83e76f-1cd3-419d-9305-0d35785350f7"
      },
      "source": [
        "temp <- c(35,88,42,84,81,30)\n",
        "temp"
      ],
      "execution_count": null,
      "outputs": [
        {
          "output_type": "display_data",
          "data": {
            "text/plain": [
              "[1] 35 88 42 84 81 30"
            ],
            "text/latex": "\\begin{enumerate*}\n\\item 35\n\\item 88\n\\item 42\n\\item 84\n\\item 81\n\\item 30\n\\end{enumerate*}\n",
            "text/markdown": "1. 35\n2. 88\n3. 42\n4. 84\n5. 81\n6. 30\n\n\n",
            "text/html": [
              "<style>\n",
              ".list-inline {list-style: none; margin:0; padding: 0}\n",
              ".list-inline>li {display: inline-block}\n",
              ".list-inline>li:not(:last-child)::after {content: \"\\00b7\"; padding: 0 .5ex}\n",
              "</style>\n",
              "<ol class=list-inline><li>35</li><li>88</li><li>42</li><li>84</li><li>81</li><li>30</li></ol>\n"
            ]
          },
          "metadata": {}
        }
      ]
    },
    {
      "cell_type": "markdown",
      "metadata": {
        "id": "fFhPfC2RfWT5"
      },
      "source": [
        "###2"
      ]
    },
    {
      "cell_type": "code",
      "metadata": {
        "colab": {
          "base_uri": "https://localhost:8080/",
          "height": 34
        },
        "id": "ocX8Wqz-evR1",
        "outputId": "ada3455c-f3d1-4b81-fa1b-24189eb8c0de"
      },
      "source": [
        "city <- c('Beijing', 'Lagos', \"Paris\", \"Rio de Janeiro\", \"San Juan\", \"Toronto\")\n",
        "city"
      ],
      "execution_count": null,
      "outputs": [
        {
          "output_type": "display_data",
          "data": {
            "text/plain": [
              "[1] \"Beijing\"        \"Lagos\"          \"Paris\"          \"Rio de Janeiro\"\n",
              "[5] \"San Juan\"       \"Toronto\"       "
            ],
            "text/latex": "\\begin{enumerate*}\n\\item 'Beijing'\n\\item 'Lagos'\n\\item 'Paris'\n\\item 'Rio de Janeiro'\n\\item 'San Juan'\n\\item 'Toronto'\n\\end{enumerate*}\n",
            "text/markdown": "1. 'Beijing'\n2. 'Lagos'\n3. 'Paris'\n4. 'Rio de Janeiro'\n5. 'San Juan'\n6. 'Toronto'\n\n\n",
            "text/html": [
              "<style>\n",
              ".list-inline {list-style: none; margin:0; padding: 0}\n",
              ".list-inline>li {display: inline-block}\n",
              ".list-inline>li:not(:last-child)::after {content: \"\\00b7\"; padding: 0 .5ex}\n",
              "</style>\n",
              "<ol class=list-inline><li>'Beijing'</li><li>'Lagos'</li><li>'Paris'</li><li>'Rio de Janeiro'</li><li>'San Juan'</li><li>'Toronto'</li></ol>\n"
            ]
          },
          "metadata": {}
        }
      ]
    },
    {
      "cell_type": "markdown",
      "metadata": {
        "id": "MBwQwi7YfYuj"
      },
      "source": [
        "###3"
      ]
    },
    {
      "cell_type": "code",
      "metadata": {
        "colab": {
          "base_uri": "https://localhost:8080/",
          "height": 34
        },
        "id": "TdgLO-VxfCsS",
        "outputId": "797138b5-5ca3-4b7a-f92c-dd4d0ed9db08"
      },
      "source": [
        "names(temp)<-city\n",
        "temp"
      ],
      "execution_count": null,
      "outputs": [
        {
          "output_type": "display_data",
          "data": {
            "text/plain": [
              "       Beijing          Lagos          Paris Rio de Janeiro       San Juan \n",
              "            35             88             42             84             81 \n",
              "       Toronto \n",
              "            30 "
            ],
            "text/latex": "\\begin{description*}\n\\item[Beijing] 35\n\\item[Lagos] 88\n\\item[Paris] 42\n\\item[Rio de Janeiro] 84\n\\item[San Juan] 81\n\\item[Toronto] 30\n\\end{description*}\n",
            "text/markdown": "Beijing\n:   35Lagos\n:   88Paris\n:   42Rio de Janeiro\n:   84San Juan\n:   81Toronto\n:   30\n\n",
            "text/html": [
              "<style>\n",
              ".dl-inline {width: auto; margin:0; padding: 0}\n",
              ".dl-inline>dt, .dl-inline>dd {float: none; width: auto; display: inline-block}\n",
              ".dl-inline>dt::after {content: \":\\0020\"; padding-right: .5ex}\n",
              ".dl-inline>dt:not(:first-of-type) {padding-left: .5ex}\n",
              "</style><dl class=dl-inline><dt>Beijing</dt><dd>35</dd><dt>Lagos</dt><dd>88</dd><dt>Paris</dt><dd>42</dd><dt>Rio de Janeiro</dt><dd>84</dd><dt>San Juan</dt><dd>81</dd><dt>Toronto</dt><dd>30</dd></dl>\n"
            ]
          },
          "metadata": {}
        }
      ]
    },
    {
      "cell_type": "markdown",
      "metadata": {
        "id": "y_evqPU_fZks"
      },
      "source": [
        "###4"
      ]
    },
    {
      "cell_type": "code",
      "metadata": {
        "colab": {
          "base_uri": "https://localhost:8080/",
          "height": 34
        },
        "id": "BEJ8pE5HfJXY",
        "outputId": "1b9738df-cabb-4ebe-df37-99b772c8759d"
      },
      "source": [
        "temp[0:3]"
      ],
      "execution_count": null,
      "outputs": [
        {
          "output_type": "display_data",
          "data": {
            "text/plain": [
              "Beijing   Lagos   Paris \n",
              "     35      88      42 "
            ],
            "text/latex": "\\begin{description*}\n\\item[Beijing] 35\n\\item[Lagos] 88\n\\item[Paris] 42\n\\end{description*}\n",
            "text/markdown": "Beijing\n:   35Lagos\n:   88Paris\n:   42\n\n",
            "text/html": [
              "<style>\n",
              ".dl-inline {width: auto; margin:0; padding: 0}\n",
              ".dl-inline>dt, .dl-inline>dd {float: none; width: auto; display: inline-block}\n",
              ".dl-inline>dt::after {content: \":\\0020\"; padding-right: .5ex}\n",
              ".dl-inline>dt:not(:first-of-type) {padding-left: .5ex}\n",
              "</style><dl class=dl-inline><dt>Beijing</dt><dd>35</dd><dt>Lagos</dt><dd>88</dd><dt>Paris</dt><dd>42</dd></dl>\n"
            ]
          },
          "metadata": {}
        }
      ]
    },
    {
      "cell_type": "markdown",
      "metadata": {
        "id": "g9dG9_P5feYS"
      },
      "source": [
        "###5"
      ]
    },
    {
      "cell_type": "code",
      "metadata": {
        "colab": {
          "base_uri": "https://localhost:8080/",
          "height": 34
        },
        "id": "sE41WBFIfcI8",
        "outputId": "975a962f-ce15-42c5-f239-e32e1e15531c"
      },
      "source": [
        "temp[c(3,5)]"
      ],
      "execution_count": null,
      "outputs": [
        {
          "output_type": "display_data",
          "data": {
            "text/plain": [
              "   Paris San Juan \n",
              "      42       81 "
            ],
            "text/latex": "\\begin{description*}\n\\item[Paris] 42\n\\item[San Juan] 81\n\\end{description*}\n",
            "text/markdown": "Paris\n:   42San Juan\n:   81\n\n",
            "text/html": [
              "<style>\n",
              ".dl-inline {width: auto; margin:0; padding: 0}\n",
              ".dl-inline>dt, .dl-inline>dd {float: none; width: auto; display: inline-block}\n",
              ".dl-inline>dt::after {content: \":\\0020\"; padding-right: .5ex}\n",
              ".dl-inline>dt:not(:first-of-type) {padding-left: .5ex}\n",
              "</style><dl class=dl-inline><dt>Paris</dt><dd>42</dd><dt>San Juan</dt><dd>81</dd></dl>\n"
            ]
          },
          "metadata": {}
        }
      ]
    },
    {
      "cell_type": "code",
      "metadata": {
        "id": "8ARdib4pfkzJ"
      },
      "source": [
        ""
      ],
      "execution_count": null,
      "outputs": []
    },
    {
      "cell_type": "markdown",
      "metadata": {
        "id": "InNEzcCpfxMi"
      },
      "source": [
        "#3"
      ]
    },
    {
      "cell_type": "code",
      "metadata": {
        "colab": {
          "base_uri": "https://localhost:8080/",
          "height": 51
        },
        "id": "QdRPaYLIfyDH",
        "outputId": "3edf4c1a-724b-4552-fdff-a0edce17be42"
      },
      "source": [
        "ind<-order(murders$total)\n",
        "murders$abb[ind]"
      ],
      "execution_count": null,
      "outputs": [
        {
          "output_type": "display_data",
          "data": {
            "text/plain": [
              " [1] \"VT\" \"ND\" \"NH\" \"WY\" \"HI\" \"SD\" \"ME\" \"ID\" \"MT\" \"RI\" \"AK\" \"IA\" \"UT\" \"WV\" \"NE\"\n",
              "[16] \"OR\" \"DE\" \"MN\" \"KS\" \"CO\" \"NM\" \"NV\" \"AR\" \"WA\" \"CT\" \"WI\" \"DC\" \"OK\" \"KY\" \"MA\"\n",
              "[31] \"MS\" \"AL\" \"IN\" \"SC\" \"TN\" \"AZ\" \"NJ\" \"VA\" \"NC\" \"MD\" \"OH\" \"MO\" \"LA\" \"IL\" \"GA\"\n",
              "[46] \"MI\" \"PA\" \"NY\" \"FL\" \"TX\" \"CA\""
            ],
            "text/latex": "\\begin{enumerate*}\n\\item 'VT'\n\\item 'ND'\n\\item 'NH'\n\\item 'WY'\n\\item 'HI'\n\\item 'SD'\n\\item 'ME'\n\\item 'ID'\n\\item 'MT'\n\\item 'RI'\n\\item 'AK'\n\\item 'IA'\n\\item 'UT'\n\\item 'WV'\n\\item 'NE'\n\\item 'OR'\n\\item 'DE'\n\\item 'MN'\n\\item 'KS'\n\\item 'CO'\n\\item 'NM'\n\\item 'NV'\n\\item 'AR'\n\\item 'WA'\n\\item 'CT'\n\\item 'WI'\n\\item 'DC'\n\\item 'OK'\n\\item 'KY'\n\\item 'MA'\n\\item 'MS'\n\\item 'AL'\n\\item 'IN'\n\\item 'SC'\n\\item 'TN'\n\\item 'AZ'\n\\item 'NJ'\n\\item 'VA'\n\\item 'NC'\n\\item 'MD'\n\\item 'OH'\n\\item 'MO'\n\\item 'LA'\n\\item 'IL'\n\\item 'GA'\n\\item 'MI'\n\\item 'PA'\n\\item 'NY'\n\\item 'FL'\n\\item 'TX'\n\\item 'CA'\n\\end{enumerate*}\n",
            "text/markdown": "1. 'VT'\n2. 'ND'\n3. 'NH'\n4. 'WY'\n5. 'HI'\n6. 'SD'\n7. 'ME'\n8. 'ID'\n9. 'MT'\n10. 'RI'\n11. 'AK'\n12. 'IA'\n13. 'UT'\n14. 'WV'\n15. 'NE'\n16. 'OR'\n17. 'DE'\n18. 'MN'\n19. 'KS'\n20. 'CO'\n21. 'NM'\n22. 'NV'\n23. 'AR'\n24. 'WA'\n25. 'CT'\n26. 'WI'\n27. 'DC'\n28. 'OK'\n29. 'KY'\n30. 'MA'\n31. 'MS'\n32. 'AL'\n33. 'IN'\n34. 'SC'\n35. 'TN'\n36. 'AZ'\n37. 'NJ'\n38. 'VA'\n39. 'NC'\n40. 'MD'\n41. 'OH'\n42. 'MO'\n43. 'LA'\n44. 'IL'\n45. 'GA'\n46. 'MI'\n47. 'PA'\n48. 'NY'\n49. 'FL'\n50. 'TX'\n51. 'CA'\n\n\n",
            "text/html": [
              "<style>\n",
              ".list-inline {list-style: none; margin:0; padding: 0}\n",
              ".list-inline>li {display: inline-block}\n",
              ".list-inline>li:not(:last-child)::after {content: \"\\00b7\"; padding: 0 .5ex}\n",
              "</style>\n",
              "<ol class=list-inline><li>'VT'</li><li>'ND'</li><li>'NH'</li><li>'WY'</li><li>'HI'</li><li>'SD'</li><li>'ME'</li><li>'ID'</li><li>'MT'</li><li>'RI'</li><li>'AK'</li><li>'IA'</li><li>'UT'</li><li>'WV'</li><li>'NE'</li><li>'OR'</li><li>'DE'</li><li>'MN'</li><li>'KS'</li><li>'CO'</li><li>'NM'</li><li>'NV'</li><li>'AR'</li><li>'WA'</li><li>'CT'</li><li>'WI'</li><li>'DC'</li><li>'OK'</li><li>'KY'</li><li>'MA'</li><li>'MS'</li><li>'AL'</li><li>'IN'</li><li>'SC'</li><li>'TN'</li><li>'AZ'</li><li>'NJ'</li><li>'VA'</li><li>'NC'</li><li>'MD'</li><li>'OH'</li><li>'MO'</li><li>'LA'</li><li>'IL'</li><li>'GA'</li><li>'MI'</li><li>'PA'</li><li>'NY'</li><li>'FL'</li><li>'TX'</li><li>'CA'</li></ol>\n"
            ]
          },
          "metadata": {}
        }
      ]
    },
    {
      "cell_type": "markdown",
      "metadata": {
        "id": "dKdze2GthOIT"
      },
      "source": [
        "##Exercise 3"
      ]
    },
    {
      "cell_type": "markdown",
      "metadata": {
        "id": "Be6HlGuOhO8P"
      },
      "source": [
        "###1"
      ]
    },
    {
      "cell_type": "code",
      "metadata": {
        "colab": {
          "base_uri": "https://localhost:8080/",
          "height": 34
        },
        "id": "WzyKPCNhhVgQ",
        "outputId": "a2094c4f-a65e-4186-cc05-68fdaa6871a7"
      },
      "source": [
        "pop<-murders$population\n",
        "sort(pop)[1]"
      ],
      "execution_count": null,
      "outputs": [
        {
          "output_type": "display_data",
          "data": {
            "text/plain": [
              "[1] 563626"
            ],
            "text/latex": "563626",
            "text/markdown": "563626",
            "text/html": [
              "563626"
            ]
          },
          "metadata": {}
        }
      ]
    },
    {
      "cell_type": "markdown",
      "metadata": {
        "id": "mHtMeZ8ZhR-8"
      },
      "source": [
        "###2"
      ]
    },
    {
      "cell_type": "code",
      "metadata": {
        "colab": {
          "base_uri": "https://localhost:8080/",
          "height": 34
        },
        "id": "EJFoYsOph3L_",
        "outputId": "b3ae99c2-3cf1-45a1-89dc-8872e23db773"
      },
      "source": [
        "order(murders$population)"
      ],
      "execution_count": null,
      "outputs": [
        {
          "output_type": "display_data",
          "data": {
            "text/plain": [
              " [1] 51  9 46 35  2 42  8 27 40 30 20 12 13 28 49 32 29 45 17  4 25 16  7 37 38\n",
              "[26] 18 19 41  1  6 24 50 21 26 43  3 15 22 48 47 31 34 23 11 36 39 14 33 10 44\n",
              "[51]  5"
            ],
            "text/latex": "\\begin{enumerate*}\n\\item 51\n\\item 9\n\\item 46\n\\item 35\n\\item 2\n\\item 42\n\\item 8\n\\item 27\n\\item 40\n\\item 30\n\\item 20\n\\item 12\n\\item 13\n\\item 28\n\\item 49\n\\item 32\n\\item 29\n\\item 45\n\\item 17\n\\item 4\n\\item 25\n\\item 16\n\\item 7\n\\item 37\n\\item 38\n\\item 18\n\\item 19\n\\item 41\n\\item 1\n\\item 6\n\\item 24\n\\item 50\n\\item 21\n\\item 26\n\\item 43\n\\item 3\n\\item 15\n\\item 22\n\\item 48\n\\item 47\n\\item 31\n\\item 34\n\\item 23\n\\item 11\n\\item 36\n\\item 39\n\\item 14\n\\item 33\n\\item 10\n\\item 44\n\\item 5\n\\end{enumerate*}\n",
            "text/markdown": "1. 51\n2. 9\n3. 46\n4. 35\n5. 2\n6. 42\n7. 8\n8. 27\n9. 40\n10. 30\n11. 20\n12. 12\n13. 13\n14. 28\n15. 49\n16. 32\n17. 29\n18. 45\n19. 17\n20. 4\n21. 25\n22. 16\n23. 7\n24. 37\n25. 38\n26. 18\n27. 19\n28. 41\n29. 1\n30. 6\n31. 24\n32. 50\n33. 21\n34. 26\n35. 43\n36. 3\n37. 15\n38. 22\n39. 48\n40. 47\n41. 31\n42. 34\n43. 23\n44. 11\n45. 36\n46. 39\n47. 14\n48. 33\n49. 10\n50. 44\n51. 5\n\n\n",
            "text/html": [
              "<style>\n",
              ".list-inline {list-style: none; margin:0; padding: 0}\n",
              ".list-inline>li {display: inline-block}\n",
              ".list-inline>li:not(:last-child)::after {content: \"\\00b7\"; padding: 0 .5ex}\n",
              "</style>\n",
              "<ol class=list-inline><li>51</li><li>9</li><li>46</li><li>35</li><li>2</li><li>42</li><li>8</li><li>27</li><li>40</li><li>30</li><li>20</li><li>12</li><li>13</li><li>28</li><li>49</li><li>32</li><li>29</li><li>45</li><li>17</li><li>4</li><li>25</li><li>16</li><li>7</li><li>37</li><li>38</li><li>18</li><li>19</li><li>41</li><li>1</li><li>6</li><li>24</li><li>50</li><li>21</li><li>26</li><li>43</li><li>3</li><li>15</li><li>22</li><li>48</li><li>47</li><li>31</li><li>34</li><li>23</li><li>11</li><li>36</li><li>39</li><li>14</li><li>33</li><li>10</li><li>44</li><li>5</li></ol>\n"
            ]
          },
          "metadata": {}
        }
      ]
    },
    {
      "cell_type": "markdown",
      "metadata": {
        "id": "rdr9Xq4JhSCf"
      },
      "source": [
        "###3"
      ]
    },
    {
      "cell_type": "code",
      "metadata": {
        "colab": {
          "base_uri": "https://localhost:8080/",
          "height": 34
        },
        "id": "eDGSqoy_iClW",
        "outputId": "6d2b4a84-9c35-4651-b6f2-d2403c164efe"
      },
      "source": [
        "which.min(murders$population)"
      ],
      "execution_count": null,
      "outputs": [
        {
          "output_type": "display_data",
          "data": {
            "text/plain": [
              "[1] 51"
            ],
            "text/latex": "51",
            "text/markdown": "51",
            "text/html": [
              "51"
            ]
          },
          "metadata": {}
        }
      ]
    },
    {
      "cell_type": "markdown",
      "metadata": {
        "id": "kvx1AMgohSFp"
      },
      "source": [
        "###4"
      ]
    },
    {
      "cell_type": "code",
      "metadata": {
        "colab": {
          "base_uri": "https://localhost:8080/",
          "height": 34
        },
        "id": "6veMvSb5gsJ8",
        "outputId": "e23fef8a-bb45-4f4b-cdb7-b272c2bb9b8c"
      },
      "source": [
        "murders$abb[51]"
      ],
      "execution_count": null,
      "outputs": [
        {
          "output_type": "display_data",
          "data": {
            "text/plain": [
              "[1] \"WY\""
            ],
            "text/latex": "'WY'",
            "text/markdown": "'WY'",
            "text/html": [
              "'WY'"
            ]
          },
          "metadata": {}
        }
      ]
    },
    {
      "cell_type": "markdown",
      "metadata": {
        "id": "Fg38kKL6iRU1"
      },
      "source": [
        "#4"
      ]
    },
    {
      "cell_type": "markdown",
      "metadata": {
        "id": "dBcnytEDjTGv"
      },
      "source": [
        "##Exercise 4"
      ]
    },
    {
      "cell_type": "markdown",
      "metadata": {
        "id": "YBZ7zJuZjVAF"
      },
      "source": [
        "###1"
      ]
    },
    {
      "cell_type": "code",
      "metadata": {
        "colab": {
          "base_uri": "https://localhost:8080/",
          "height": 283
        },
        "id": "dOS6PjpHjmEy",
        "outputId": "8c5d5135-73d1-46ef-9353-4f27747c5b3f"
      },
      "source": [
        "head(murders)"
      ],
      "execution_count": null,
      "outputs": [
        {
          "output_type": "display_data",
          "data": {
            "text/plain": [
              "  state      abb region population total\n",
              "1 Alabama    AL  South   4779736    135 \n",
              "2 Alaska     AK  West     710231     19 \n",
              "3 Arizona    AZ  West    6392017    232 \n",
              "4 Arkansas   AR  South   2915918     93 \n",
              "5 California CA  West   37253956   1257 \n",
              "6 Colorado   CO  West    5029196     65 "
            ],
            "text/latex": "A data.frame: 6 × 5\n\\begin{tabular}{r|lllll}\n  & state & abb & region & population & total\\\\\n  & <chr> & <chr> & <fct> & <dbl> & <dbl>\\\\\n\\hline\n\t1 & Alabama    & AL & South &  4779736 &  135\\\\\n\t2 & Alaska     & AK & West  &   710231 &   19\\\\\n\t3 & Arizona    & AZ & West  &  6392017 &  232\\\\\n\t4 & Arkansas   & AR & South &  2915918 &   93\\\\\n\t5 & California & CA & West  & 37253956 & 1257\\\\\n\t6 & Colorado   & CO & West  &  5029196 &   65\\\\\n\\end{tabular}\n",
            "text/markdown": "\nA data.frame: 6 × 5\n\n| <!--/--> | state &lt;chr&gt; | abb &lt;chr&gt; | region &lt;fct&gt; | population &lt;dbl&gt; | total &lt;dbl&gt; |\n|---|---|---|---|---|---|\n| 1 | Alabama    | AL | South |  4779736 |  135 |\n| 2 | Alaska     | AK | West  |   710231 |   19 |\n| 3 | Arizona    | AZ | West  |  6392017 |  232 |\n| 4 | Arkansas   | AR | South |  2915918 |   93 |\n| 5 | California | CA | West  | 37253956 | 1257 |\n| 6 | Colorado   | CO | West  |  5029196 |   65 |\n\n",
            "text/html": [
              "<table class=\"dataframe\">\n",
              "<caption>A data.frame: 6 × 5</caption>\n",
              "<thead>\n",
              "\t<tr><th></th><th scope=col>state</th><th scope=col>abb</th><th scope=col>region</th><th scope=col>population</th><th scope=col>total</th></tr>\n",
              "\t<tr><th></th><th scope=col>&lt;chr&gt;</th><th scope=col>&lt;chr&gt;</th><th scope=col>&lt;fct&gt;</th><th scope=col>&lt;dbl&gt;</th><th scope=col>&lt;dbl&gt;</th></tr>\n",
              "</thead>\n",
              "<tbody>\n",
              "\t<tr><th scope=row>1</th><td>Alabama   </td><td>AL</td><td>South</td><td> 4779736</td><td> 135</td></tr>\n",
              "\t<tr><th scope=row>2</th><td>Alaska    </td><td>AK</td><td>West </td><td>  710231</td><td>  19</td></tr>\n",
              "\t<tr><th scope=row>3</th><td>Arizona   </td><td>AZ</td><td>West </td><td> 6392017</td><td> 232</td></tr>\n",
              "\t<tr><th scope=row>4</th><td>Arkansas  </td><td>AR</td><td>South</td><td> 2915918</td><td>  93</td></tr>\n",
              "\t<tr><th scope=row>5</th><td>California</td><td>CA</td><td>West </td><td>37253956</td><td>1257</td></tr>\n",
              "\t<tr><th scope=row>6</th><td>Colorado  </td><td>CO</td><td>West </td><td> 5029196</td><td>  65</td></tr>\n",
              "</tbody>\n",
              "</table>\n"
            ]
          },
          "metadata": {}
        }
      ]
    },
    {
      "cell_type": "code",
      "metadata": {
        "id": "zidjAVo5iRz2"
      },
      "source": [
        "murder_rate <- murders$total/murders$population * 100000"
      ],
      "execution_count": null,
      "outputs": []
    },
    {
      "cell_type": "code",
      "metadata": {
        "colab": {
          "base_uri": "https://localhost:8080/",
          "height": 34
        },
        "id": "LfG6tWCajxD_",
        "outputId": "eff202ee-7c62-40c8-f494-376cfca95357"
      },
      "source": [
        "low <- murder_rate < 1\n",
        "murders$state[low]"
      ],
      "execution_count": null,
      "outputs": [
        {
          "output_type": "display_data",
          "data": {
            "text/plain": [
              " [1] \"Hawaii\"        \"Idaho\"         \"Iowa\"          \"Maine\"        \n",
              " [5] \"Minnesota\"     \"New Hampshire\" \"North Dakota\"  \"Oregon\"       \n",
              " [9] \"South Dakota\"  \"Utah\"          \"Vermont\"       \"Wyoming\"      "
            ],
            "text/latex": "\\begin{enumerate*}\n\\item 'Hawaii'\n\\item 'Idaho'\n\\item 'Iowa'\n\\item 'Maine'\n\\item 'Minnesota'\n\\item 'New Hampshire'\n\\item 'North Dakota'\n\\item 'Oregon'\n\\item 'South Dakota'\n\\item 'Utah'\n\\item 'Vermont'\n\\item 'Wyoming'\n\\end{enumerate*}\n",
            "text/markdown": "1. 'Hawaii'\n2. 'Idaho'\n3. 'Iowa'\n4. 'Maine'\n5. 'Minnesota'\n6. 'New Hampshire'\n7. 'North Dakota'\n8. 'Oregon'\n9. 'South Dakota'\n10. 'Utah'\n11. 'Vermont'\n12. 'Wyoming'\n\n\n",
            "text/html": [
              "<style>\n",
              ".list-inline {list-style: none; margin:0; padding: 0}\n",
              ".list-inline>li {display: inline-block}\n",
              ".list-inline>li:not(:last-child)::after {content: \"\\00b7\"; padding: 0 .5ex}\n",
              "</style>\n",
              "<ol class=list-inline><li>'Hawaii'</li><li>'Idaho'</li><li>'Iowa'</li><li>'Maine'</li><li>'Minnesota'</li><li>'New Hampshire'</li><li>'North Dakota'</li><li>'Oregon'</li><li>'South Dakota'</li><li>'Utah'</li><li>'Vermont'</li><li>'Wyoming'</li></ol>\n"
            ]
          },
          "metadata": {}
        }
      ]
    },
    {
      "cell_type": "markdown",
      "metadata": {
        "id": "Ijll1uorkWQZ"
      },
      "source": [
        "###2"
      ]
    },
    {
      "cell_type": "code",
      "metadata": {
        "colab": {
          "base_uri": "https://localhost:8080/",
          "height": 34
        },
        "id": "PzCXZdkjj13U",
        "outputId": "bba66bff-2ea9-48f4-db63-2d880ee6f1d3"
      },
      "source": [
        "ind <- which(murder_rate<1)\n",
        "murder_rate[ind]"
      ],
      "execution_count": null,
      "outputs": [
        {
          "output_type": "display_data",
          "data": {
            "text/plain": [
              " [1] 0.5145920 0.7655102 0.6893484 0.8280881 0.9992600 0.3798036 0.5947151\n",
              " [8] 0.9396843 0.9825837 0.7959810 0.3196211 0.8871131"
            ],
            "text/latex": "\\begin{enumerate*}\n\\item 0.514591991037278\n\\item 0.76551019340615\n\\item 0.689348418027446\n\\item 0.828088147724903\n\\item 0.999259981994466\n\\item 0.379803565595874\n\\item 0.594715064578622\n\\item 0.939684276524024\n\\item 0.982583703849272\n\\item 0.795981019470781\n\\item 0.319621057274495\n\\item 0.887113085627704\n\\end{enumerate*}\n",
            "text/markdown": "1. 0.514591991037278\n2. 0.76551019340615\n3. 0.689348418027446\n4. 0.828088147724903\n5. 0.999259981994466\n6. 0.379803565595874\n7. 0.594715064578622\n8. 0.939684276524024\n9. 0.982583703849272\n10. 0.795981019470781\n11. 0.319621057274495\n12. 0.887113085627704\n\n\n",
            "text/html": [
              "<style>\n",
              ".list-inline {list-style: none; margin:0; padding: 0}\n",
              ".list-inline>li {display: inline-block}\n",
              ".list-inline>li:not(:last-child)::after {content: \"\\00b7\"; padding: 0 .5ex}\n",
              "</style>\n",
              "<ol class=list-inline><li>0.514591991037278</li><li>0.76551019340615</li><li>0.689348418027446</li><li>0.828088147724903</li><li>0.999259981994466</li><li>0.379803565595874</li><li>0.594715064578622</li><li>0.939684276524024</li><li>0.982583703849272</li><li>0.795981019470781</li><li>0.319621057274495</li><li>0.887113085627704</li></ol>\n"
            ]
          },
          "metadata": {}
        }
      ]
    },
    {
      "cell_type": "markdown",
      "metadata": {
        "id": "WCcGkLoZkkCL"
      },
      "source": [
        "###3"
      ]
    },
    {
      "cell_type": "code",
      "metadata": {
        "colab": {
          "base_uri": "https://localhost:8080/",
          "height": 34
        },
        "id": "tGr5h_MJkgc9",
        "outputId": "5622f539-20cd-42be-ed5d-ea55f41a1aa8"
      },
      "source": [
        "murders$state[ind]"
      ],
      "execution_count": null,
      "outputs": [
        {
          "output_type": "display_data",
          "data": {
            "text/plain": [
              " [1] \"Hawaii\"        \"Idaho\"         \"Iowa\"          \"Maine\"        \n",
              " [5] \"Minnesota\"     \"New Hampshire\" \"North Dakota\"  \"Oregon\"       \n",
              " [9] \"South Dakota\"  \"Utah\"          \"Vermont\"       \"Wyoming\"      "
            ],
            "text/latex": "\\begin{enumerate*}\n\\item 'Hawaii'\n\\item 'Idaho'\n\\item 'Iowa'\n\\item 'Maine'\n\\item 'Minnesota'\n\\item 'New Hampshire'\n\\item 'North Dakota'\n\\item 'Oregon'\n\\item 'South Dakota'\n\\item 'Utah'\n\\item 'Vermont'\n\\item 'Wyoming'\n\\end{enumerate*}\n",
            "text/markdown": "1. 'Hawaii'\n2. 'Idaho'\n3. 'Iowa'\n4. 'Maine'\n5. 'Minnesota'\n6. 'New Hampshire'\n7. 'North Dakota'\n8. 'Oregon'\n9. 'South Dakota'\n10. 'Utah'\n11. 'Vermont'\n12. 'Wyoming'\n\n\n",
            "text/html": [
              "<style>\n",
              ".list-inline {list-style: none; margin:0; padding: 0}\n",
              ".list-inline>li {display: inline-block}\n",
              ".list-inline>li:not(:last-child)::after {content: \"\\00b7\"; padding: 0 .5ex}\n",
              "</style>\n",
              "<ol class=list-inline><li>'Hawaii'</li><li>'Idaho'</li><li>'Iowa'</li><li>'Maine'</li><li>'Minnesota'</li><li>'New Hampshire'</li><li>'North Dakota'</li><li>'Oregon'</li><li>'South Dakota'</li><li>'Utah'</li><li>'Vermont'</li><li>'Wyoming'</li></ol>\n"
            ]
          },
          "metadata": {}
        }
      ]
    },
    {
      "cell_type": "markdown",
      "metadata": {
        "id": "xr40G2pjkx-b"
      },
      "source": [
        "###4"
      ]
    },
    {
      "cell_type": "code",
      "metadata": {
        "colab": {
          "base_uri": "https://localhost:8080/",
          "height": 70
        },
        "id": "XWy-11FykwoR",
        "outputId": "1c98d085-5777-4608-e534-7dde6208faab"
      },
      "source": [
        "murders$state[which(murders$region=='Northeast') & murder_rate < 1]"
      ],
      "execution_count": null,
      "outputs": [
        {
          "output_type": "stream",
          "name": "stderr",
          "text": [
            "Warning message in which(murders$region == \"Northeast\") & murder_rate < 1:\n",
            "“longer object length is not a multiple of shorter object length”\n"
          ]
        },
        {
          "output_type": "display_data",
          "data": {
            "text/plain": [
              " [1] \"Hawaii\"        \"Idaho\"         \"Iowa\"          \"Maine\"        \n",
              " [5] \"Minnesota\"     \"New Hampshire\" \"North Dakota\"  \"Oregon\"       \n",
              " [9] \"South Dakota\"  \"Utah\"          \"Vermont\"       \"Wyoming\"      "
            ],
            "text/latex": "\\begin{enumerate*}\n\\item 'Hawaii'\n\\item 'Idaho'\n\\item 'Iowa'\n\\item 'Maine'\n\\item 'Minnesota'\n\\item 'New Hampshire'\n\\item 'North Dakota'\n\\item 'Oregon'\n\\item 'South Dakota'\n\\item 'Utah'\n\\item 'Vermont'\n\\item 'Wyoming'\n\\end{enumerate*}\n",
            "text/markdown": "1. 'Hawaii'\n2. 'Idaho'\n3. 'Iowa'\n4. 'Maine'\n5. 'Minnesota'\n6. 'New Hampshire'\n7. 'North Dakota'\n8. 'Oregon'\n9. 'South Dakota'\n10. 'Utah'\n11. 'Vermont'\n12. 'Wyoming'\n\n\n",
            "text/html": [
              "<style>\n",
              ".list-inline {list-style: none; margin:0; padding: 0}\n",
              ".list-inline>li {display: inline-block}\n",
              ".list-inline>li:not(:last-child)::after {content: \"\\00b7\"; padding: 0 .5ex}\n",
              "</style>\n",
              "<ol class=list-inline><li>'Hawaii'</li><li>'Idaho'</li><li>'Iowa'</li><li>'Maine'</li><li>'Minnesota'</li><li>'New Hampshire'</li><li>'North Dakota'</li><li>'Oregon'</li><li>'South Dakota'</li><li>'Utah'</li><li>'Vermont'</li><li>'Wyoming'</li></ol>\n"
            ]
          },
          "metadata": {}
        }
      ]
    },
    {
      "cell_type": "markdown",
      "metadata": {
        "id": "3hs0rHaylVtf"
      },
      "source": [
        "###5"
      ]
    },
    {
      "cell_type": "code",
      "metadata": {
        "colab": {
          "base_uri": "https://localhost:8080/",
          "height": 119
        },
        "id": "aRyfZ3uwlAzh",
        "outputId": "d5c69ddc-5bdb-40a7-b993-00f777330791"
      },
      "source": [
        "class(murder_rate)\n",
        "murder_rate"
      ],
      "execution_count": null,
      "outputs": [
        {
          "output_type": "display_data",
          "data": {
            "text/plain": [
              "[1] \"numeric\""
            ],
            "text/latex": "'numeric'",
            "text/markdown": "'numeric'",
            "text/html": [
              "'numeric'"
            ]
          },
          "metadata": {}
        },
        {
          "output_type": "display_data",
          "data": {
            "text/plain": [
              " [1]  2.8244238  2.6751860  3.6295273  3.1893901  3.3741383  1.2924531\n",
              " [7]  2.7139722  4.2319369 16.4527532  3.3980688  3.7903226  0.5145920\n",
              "[13]  0.7655102  2.8369608  2.1900730  0.6893484  2.2081106  2.6732010\n",
              "[19]  7.7425810  0.8280881  5.0748655  1.8021791  4.1786225  0.9992600\n",
              "[25]  4.0440846  5.3598917  1.2128379  1.7521372  3.1104763  0.3798036\n",
              "[31]  2.7980319  3.2537239  2.6679599  2.9993237  0.5947151  2.6871225\n",
              "[37]  2.9589340  0.9396843  3.5977513  1.5200933  4.4753235  0.9825837\n",
              "[43]  3.4509357  3.2013603  0.7959810  0.3196211  3.1246001  1.3829942\n",
              "[49]  1.4571013  1.7056487  0.8871131"
            ],
            "text/latex": "\\begin{enumerate*}\n\\item 2.82442377570644\n\\item 2.67518596062408\n\\item 3.62952726815339\n\\item 3.18939009944724\n\\item 3.37413830627813\n\\item 1.29245310781286\n\\item 2.71397222850975\n\\item 4.23193686841126\n\\item 16.4527531771264\n\\item 3.39806883024604\n\\item 3.79032258064516\n\\item 0.514591991037278\n\\item 0.76551019340615\n\\item 2.83696079818983\n\\item 2.19007304664763\n\\item 0.689348418027446\n\\item 2.20811056535341\n\\item 2.67320095304223\n\\item 7.7425810191619\n\\item 0.828088147724903\n\\item 5.07486552472378\n\\item 1.80217907886962\n\\item 4.17862245083795\n\\item 0.999259981994466\n\\item 4.04408456585236\n\\item 5.35989168009562\n\\item 1.21283788905565\n\\item 1.75213719672285\n\\item 3.11047634353138\n\\item 0.379803565595874\n\\item 2.79803191439751\n\\item 3.25372393560735\n\\item 2.66795994778023\n\\item 2.9993236839707\n\\item 0.594715064578622\n\\item 2.68712254596366\n\\item 2.95893399471284\n\\item 0.939684276524024\n\\item 3.59775125588679\n\\item 1.52009325772136\n\\item 4.47532345562425\n\\item 0.982583703849272\n\\item 3.45093565265624\n\\item 3.20136027189849\n\\item 0.795981019470781\n\\item 0.319621057274495\n\\item 3.12460005119345\n\\item 1.38299422711442\n\\item 1.45710131819099\n\\item 1.70564865114843\n\\item 0.887113085627704\n\\end{enumerate*}\n",
            "text/markdown": "1. 2.82442377570644\n2. 2.67518596062408\n3. 3.62952726815339\n4. 3.18939009944724\n5. 3.37413830627813\n6. 1.29245310781286\n7. 2.71397222850975\n8. 4.23193686841126\n9. 16.4527531771264\n10. 3.39806883024604\n11. 3.79032258064516\n12. 0.514591991037278\n13. 0.76551019340615\n14. 2.83696079818983\n15. 2.19007304664763\n16. 0.689348418027446\n17. 2.20811056535341\n18. 2.67320095304223\n19. 7.7425810191619\n20. 0.828088147724903\n21. 5.07486552472378\n22. 1.80217907886962\n23. 4.17862245083795\n24. 0.999259981994466\n25. 4.04408456585236\n26. 5.35989168009562\n27. 1.21283788905565\n28. 1.75213719672285\n29. 3.11047634353138\n30. 0.379803565595874\n31. 2.79803191439751\n32. 3.25372393560735\n33. 2.66795994778023\n34. 2.9993236839707\n35. 0.594715064578622\n36. 2.68712254596366\n37. 2.95893399471284\n38. 0.939684276524024\n39. 3.59775125588679\n40. 1.52009325772136\n41. 4.47532345562425\n42. 0.982583703849272\n43. 3.45093565265624\n44. 3.20136027189849\n45. 0.795981019470781\n46. 0.319621057274495\n47. 3.12460005119345\n48. 1.38299422711442\n49. 1.45710131819099\n50. 1.70564865114843\n51. 0.887113085627704\n\n\n",
            "text/html": [
              "<style>\n",
              ".list-inline {list-style: none; margin:0; padding: 0}\n",
              ".list-inline>li {display: inline-block}\n",
              ".list-inline>li:not(:last-child)::after {content: \"\\00b7\"; padding: 0 .5ex}\n",
              "</style>\n",
              "<ol class=list-inline><li>2.82442377570644</li><li>2.67518596062408</li><li>3.62952726815339</li><li>3.18939009944724</li><li>3.37413830627813</li><li>1.29245310781286</li><li>2.71397222850975</li><li>4.23193686841126</li><li>16.4527531771264</li><li>3.39806883024604</li><li>3.79032258064516</li><li>0.514591991037278</li><li>0.76551019340615</li><li>2.83696079818983</li><li>2.19007304664763</li><li>0.689348418027446</li><li>2.20811056535341</li><li>2.67320095304223</li><li>7.7425810191619</li><li>0.828088147724903</li><li>5.07486552472378</li><li>1.80217907886962</li><li>4.17862245083795</li><li>0.999259981994466</li><li>4.04408456585236</li><li>5.35989168009562</li><li>1.21283788905565</li><li>1.75213719672285</li><li>3.11047634353138</li><li>0.379803565595874</li><li>2.79803191439751</li><li>3.25372393560735</li><li>2.66795994778023</li><li>2.9993236839707</li><li>0.594715064578622</li><li>2.68712254596366</li><li>2.95893399471284</li><li>0.939684276524024</li><li>3.59775125588679</li><li>1.52009325772136</li><li>4.47532345562425</li><li>0.982583703849272</li><li>3.45093565265624</li><li>3.20136027189849</li><li>0.795981019470781</li><li>0.319621057274495</li><li>3.12460005119345</li><li>1.38299422711442</li><li>1.45710131819099</li><li>1.70564865114843</li><li>0.887113085627704</li></ol>\n"
            ]
          },
          "metadata": {}
        }
      ]
    },
    {
      "cell_type": "code",
      "metadata": {
        "id": "5874Fa3olW_J"
      },
      "source": [
        "ave<-mean(murder_rate)"
      ],
      "execution_count": null,
      "outputs": []
    },
    {
      "cell_type": "code",
      "metadata": {
        "colab": {
          "base_uri": "https://localhost:8080/",
          "height": 34
        },
        "id": "fWzzY8Gwllax",
        "outputId": "4ff53388-2a3a-4455-902c-85b6b0109ced"
      },
      "source": [
        "length(murder_rate)"
      ],
      "execution_count": null,
      "outputs": [
        {
          "output_type": "display_data",
          "data": {
            "text/plain": [
              "[1] 51"
            ],
            "text/latex": "51",
            "text/markdown": "51",
            "text/html": [
              "51"
            ]
          },
          "metadata": {}
        }
      ]
    },
    {
      "cell_type": "code",
      "metadata": {
        "colab": {
          "base_uri": "https://localhost:8080/",
          "height": 34
        },
        "id": "PiBw1I6Vlbp0",
        "outputId": "646ce7ee-a4da-451a-f626-3467c8021ee7"
      },
      "source": [
        "length(which(murder_rate<ave))"
      ],
      "execution_count": null,
      "outputs": [
        {
          "output_type": "display_data",
          "data": {
            "text/plain": [
              "[1] 27"
            ],
            "text/latex": "27",
            "text/markdown": "27",
            "text/html": [
              "27"
            ]
          },
          "metadata": {}
        }
      ]
    },
    {
      "cell_type": "code",
      "metadata": {
        "id": "VYEnZ5TcljRQ"
      },
      "source": [
        ""
      ],
      "execution_count": null,
      "outputs": []
    },
    {
      "cell_type": "markdown",
      "metadata": {
        "id": "1Y7RQ7Xtlru-"
      },
      "source": [
        "#5"
      ]
    },
    {
      "cell_type": "code",
      "metadata": {
        "id": "PcW0pS-zlsg9"
      },
      "source": [
        ""
      ],
      "execution_count": null,
      "outputs": []
    },
    {
      "cell_type": "markdown",
      "metadata": {
        "id": "0dF9F0xFlsvR"
      },
      "source": [
        "##exercise 5"
      ]
    },
    {
      "cell_type": "markdown",
      "metadata": {
        "id": "JgJDR8Fensdj"
      },
      "source": [
        "###1"
      ]
    },
    {
      "cell_type": "code",
      "metadata": {
        "colab": {
          "base_uri": "https://localhost:8080/",
          "height": 437
        },
        "id": "-B4xz806luF3",
        "outputId": "aff315eb-1ba6-469e-a1e2-3e0afbd50adc"
      },
      "source": [
        "hist(murders$population/10^6)"
      ],
      "execution_count": null,
      "outputs": [
        {
          "output_type": "display_data",
          "data": {
            "image/png": "[encoded data removed]",
            "text/plain": [
              "Plot with title “Histogram of murders$population/10^6”"
            ]
          },
          "metadata": {
            "image/png": {
              "width": 420,
              "height": 420
            }
          }
        }
      ]
    },
    {
      "cell_type": "markdown",
      "metadata": {
        "id": "xiDwRGQcoZvA"
      },
      "source": [
        "###2"
      ]
    },
    {
      "cell_type": "code",
      "metadata": {
        "colab": {
          "base_uri": "https://localhost:8080/",
          "height": 283
        },
        "id": "BCxwfRb7nvvN",
        "outputId": "77397e62-1c2a-47a8-fe29-e71110bc3b0a"
      },
      "source": [
        "head(murders)"
      ],
      "execution_count": null,
      "outputs": [
        {
          "output_type": "display_data",
          "data": {
            "text/plain": [
              "  state      abb region population total\n",
              "1 Alabama    AL  South   4779736    135 \n",
              "2 Alaska     AK  West     710231     19 \n",
              "3 Arizona    AZ  West    6392017    232 \n",
              "4 Arkansas   AR  South   2915918     93 \n",
              "5 California CA  West   37253956   1257 \n",
              "6 Colorado   CO  West    5029196     65 "
            ],
            "text/latex": "A data.frame: 6 × 5\n\\begin{tabular}{r|lllll}\n  & state & abb & region & population & total\\\\\n  & <chr> & <chr> & <fct> & <dbl> & <dbl>\\\\\n\\hline\n\t1 & Alabama    & AL & South &  4779736 &  135\\\\\n\t2 & Alaska     & AK & West  &   710231 &   19\\\\\n\t3 & Arizona    & AZ & West  &  6392017 &  232\\\\\n\t4 & Arkansas   & AR & South &  2915918 &   93\\\\\n\t5 & California & CA & West  & 37253956 & 1257\\\\\n\t6 & Colorado   & CO & West  &  5029196 &   65\\\\\n\\end{tabular}\n",
            "text/markdown": "\nA data.frame: 6 × 5\n\n| <!--/--> | state &lt;chr&gt; | abb &lt;chr&gt; | region &lt;fct&gt; | population &lt;dbl&gt; | total &lt;dbl&gt; |\n|---|---|---|---|---|---|\n| 1 | Alabama    | AL | South |  4779736 |  135 |\n| 2 | Alaska     | AK | West  |   710231 |   19 |\n| 3 | Arizona    | AZ | West  |  6392017 |  232 |\n| 4 | Arkansas   | AR | South |  2915918 |   93 |\n| 5 | California | CA | West  | 37253956 | 1257 |\n| 6 | Colorado   | CO | West  |  5029196 |   65 |\n\n",
            "text/html": [
              "<table class=\"dataframe\">\n",
              "<caption>A data.frame: 6 × 5</caption>\n",
              "<thead>\n",
              "\t<tr><th></th><th scope=col>state</th><th scope=col>abb</th><th scope=col>region</th><th scope=col>population</th><th scope=col>total</th></tr>\n",
              "\t<tr><th></th><th scope=col>&lt;chr&gt;</th><th scope=col>&lt;chr&gt;</th><th scope=col>&lt;fct&gt;</th><th scope=col>&lt;dbl&gt;</th><th scope=col>&lt;dbl&gt;</th></tr>\n",
              "</thead>\n",
              "<tbody>\n",
              "\t<tr><th scope=row>1</th><td>Alabama   </td><td>AL</td><td>South</td><td> 4779736</td><td> 135</td></tr>\n",
              "\t<tr><th scope=row>2</th><td>Alaska    </td><td>AK</td><td>West </td><td>  710231</td><td>  19</td></tr>\n",
              "\t<tr><th scope=row>3</th><td>Arizona   </td><td>AZ</td><td>West </td><td> 6392017</td><td> 232</td></tr>\n",
              "\t<tr><th scope=row>4</th><td>Arkansas  </td><td>AR</td><td>South</td><td> 2915918</td><td>  93</td></tr>\n",
              "\t<tr><th scope=row>5</th><td>California</td><td>CA</td><td>West </td><td>37253956</td><td>1257</td></tr>\n",
              "\t<tr><th scope=row>6</th><td>Colorado  </td><td>CO</td><td>West </td><td> 5029196</td><td>  65</td></tr>\n",
              "</tbody>\n",
              "</table>\n"
            ]
          },
          "metadata": {}
        }
      ]
    },
    {
      "cell_type": "code",
      "metadata": {
        "id": "UpgFnpc1ocMU"
      },
      "source": [
        "murders"
      ],
      "execution_count": null,
      "outputs": []
    },
    {
      "cell_type": "code",
      "metadata": {
        "id": "UAOa0xNqo6zc"
      },
      "source": [
        ""
      ],
      "execution_count": null,
      "outputs": []
    }
  ]
}